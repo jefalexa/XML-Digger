{
 "cells": [
  {
   "cell_type": "code",
   "execution_count": 1,
   "metadata": {
    "collapsed": true
   },
   "outputs": [],
   "source": [
    "# -*- coding: utf-8 -*-\n",
    "\n",
    " \n",
    "import xml.etree.cElementTree as et\n",
    "import pandas as pd\n",
    "import re\n",
    "import os\n",
    "import time\n",
    "import sys\n",
    "\n",
    "# Interface\n",
    "def update_progress(progress):\n",
    "    barLength = 20 # Modify this to change the length of the progress bar\n",
    "    status = \"\"\n",
    "    if isinstance(progress, int):\n",
    "        progress = float(progress)\n",
    "    if not isinstance(progress, float):\n",
    "        progress = 0\n",
    "        status = \"error: progress var must be float\\r\\n\"\n",
    "    if progress < 0:\n",
    "        progress = 0\n",
    "        status = \"Halt...\\r\\n\"\n",
    "    if progress >= 1:\n",
    "        progress = 1\n",
    "        status = \"Done...\\r\\n\"\n",
    "    block = int(round(barLength*progress))\n",
    "    text = \"\\rPercent: [{0}] {1}% {2}\".format( \"#\"*block + \"-\"*(barLength-block), progress*100, status)\n",
    "    sys.stdout.write(text)\n",
    "    sys.stdout.flush()\n",
    "\n",
    "def update_ticker(report, reporting_rate, char):\n",
    "    if report % reporting_rate == 0:\n",
    "        sys.stdout.write(char)\n",
    "        sys.stdout.flush()\n",
    "        \n",
    "        \n",
    "# File Management\n",
    "def find_files(x, working_dir):\n",
    "    pattern = re.compile(x)\n",
    "    file_list = []\n",
    "    for file in os.listdir(working_dir):\n",
    "        if re.match(pattern=pattern, string=file):\n",
    "            file_list.append(file)\n",
    "    return(file_list)\n",
    "\n",
    "def move_files(file_list, working_dir, completed_dir):\n",
    "    for file in file_list:\n",
    "        old = os.path.join(working_dir, file)\n",
    "        new = os.path.join(completed_dir, file)\n",
    "        os.rename(old, new)\n",
    "\n",
    "# Exploratory Data Analysis (EDA)\n",
    "def get_children_tags(parent):\n",
    "    '''Input:  XML root/parent object\n",
    "    Output:  List of unique children tags'''\n",
    "    child_list = []\n",
    "    for x in parent.getchildren():\n",
    "        if x.tag not in child_list:\n",
    "            child_list.append(x.tag)\n",
    "    return(child_list)\n",
    "\n",
    "def get_children_details(parent, plist):\n",
    "    for p in plist:\n",
    "        count = 0\n",
    "        for x in parent.getchildren():\n",
    "            if x.tag == p:\n",
    "                count += 1\n",
    "        print(\"Parent Tag:  {0} - Count:  {1}\".format(p, count))\n",
    "\n",
    "def get_children_info(parent):\n",
    "    '''Input:  XML root/parent object\n",
    "    Output:  1 dict with 2 Lists, [attribute key names] [unique children tag names]'''\n",
    "    child_list = get_children_tags(parent)\n",
    "    attrib_list = parent.keys()\n",
    "    return({'attributes': attrib_list, 'child_tags': child_list})\n",
    "\n",
    "def print_info(parent, level):\n",
    "    pinfo = get_children_info(parent)\n",
    "    indent = \"  \" * level\n",
    "    level += 1\n",
    "    print(parent.tag)\n",
    "    print(\"{2}Attributes ({0}):\\t{1}\".format(len(pinfo['attributes']), pinfo['attributes'], indent))\n",
    "    print(\"{2}Children ({0}):\\t{1}\".format(len(pinfo['child_tags']), pinfo['child_tags'], indent))\n",
    "      \n",
    "\n",
    "# Data Parsing and Extraction\n",
    "def digger01(elementid, parentid, parent):\n",
    "    '''\n",
    "    Inputs:\n",
    "      elemendid = the index number assigned to the data being processed\n",
    "      parentid = the index number of the function that called the function\n",
    "      parent = the XML object to be processed\n",
    "    Outputs:  \n",
    "      attributes = LIST containing DICTS the attributes of of each child parsed IF it is also a parent itself\n",
    "      data = LIST containing DICTS the attributes of of each child parsed IF it has no children.  \n",
    "      elementid = The last assigned index number.  \n",
    "    '''\n",
    "    attributes = []\n",
    "    data = []\n",
    "    iter_count = 0\n",
    "    for child in parent.getchildren():\n",
    "        iter_count += 1\n",
    "        parentid = elementid\n",
    "        elementid += 1\n",
    "        attribs = child.attrib\n",
    "        if len(attribs) > 0:\n",
    "            attribs.update({'elementid':  elementid})   \n",
    "            if len(child.getchildren()) > 0:\n",
    "                attributes.append(attribs)\n",
    "                parentid = elementid\n",
    "                elementid += 1\n",
    "                update_ticker(iter_count, 100, \"*\")\n",
    "                digger01(elementid, parentid, child)\n",
    "            else:\n",
    "                data.append(attribs)\n",
    "                parentid = elementid\n",
    "                elementid += 1\n",
    "                update_ticker(iter_count, 100, \"#\")\n",
    "        else:\n",
    "            print(\"attribs len = {0}\".format(len(attribs)))\n",
    "    return(attributes, data, elementid)\n",
    "        \n",
    "# Data Consolidation\n",
    "def get_df(df_list, index_key='elementid'):\n",
    "    '''\n",
    "    Input:  \n",
    "      df_list = LIST containing DataFrames to consolidate\n",
    "      index_key = Name of column to use as the key, default is the elementid\n",
    "    Output:  \n",
    "      df = A single DataFrame containing all of the DF's passed in\n",
    "      '''\n",
    "    df = pd.DataFrame()\n",
    "    iter_count = 0\n",
    "    for x in df_list:\n",
    "        df = df.append(pd.DataFrame(data = x, index=[x[index_key]]))\n",
    "        iter_count += 1\n",
    "        update_ticker(iter_count, 100, \"#\")\n",
    "    return(df)\n",
    "        \n",
    "\n"
   ]
  },
  {
   "cell_type": "code",
   "execution_count": 2,
   "metadata": {},
   "outputs": [
    {
     "data": {
      "text/plain": [
       "['export.xml', 'export2.xml', 'export_cda.xml']"
      ]
     },
     "execution_count": 2,
     "metadata": {},
     "output_type": "execute_result"
    }
   ],
   "source": [
    "# Find files to work with\n",
    "dir_raw = \"./data/raw/\"\n",
    "dir_processed = \"./data/processed/\"\n",
    "search_string = \".*.xml\"\n",
    "\n",
    "find_files(search_string, dir_raw)\n",
    "\n"
   ]
  },
  {
   "cell_type": "code",
   "execution_count": 3,
   "metadata": {},
   "outputs": [
    {
     "name": "stdout",
     "output_type": "stream",
     "text": [
      "Starting digger01\n",
      "##############################################################################################################################################################################*###################################################################################################################################################################################################################################################################################################################################################################################################################################################################################################################################################################################################################################################################################################################################################################################################################################################################################################################################################################################################*Done!\n"
     ]
    }
   ],
   "source": [
    "# Import File as XML Object\n",
    "file = 'export.xml'\n",
    "file_name = os.path.join(dir_raw, file)\n",
    "\n",
    "parsed_xml = et.parse(file_name)\n",
    "root = parsed_xml.getroot()\n",
    "\n",
    "# Initiate parsing of XML\n",
    "parent = root\n",
    "parentid = 1\n",
    "elementid = 2\n",
    "print(\"Starting digger01\")\n",
    "dug1 = digger01(elementid, parentid, parent)\n",
    "\n",
    "print(\"\\n\")\n",
    "print(\"Done!\")"
   ]
  },
  {
   "cell_type": "code",
   "execution_count": null,
   "metadata": {},
   "outputs": [
    {
     "name": "stdout",
     "output_type": "stream",
     "text": [
      "\n",
      "\n",
      "Starting get_df Attributes\n",
      "#\n",
      "\n",
      "Starting get_df Data\n",
      "#############################################################################################################################################################################"
     ]
    }
   ],
   "source": [
    "\n",
    "# Attributes\n",
    "print(\"\\n\")\n",
    "print(\"Starting get_df Attributes\")\n",
    "df1 = get_df(dug1[0])\n",
    "\n",
    "# Data\n",
    "print(\"\\n\")\n",
    "print(\"Starting get_df Data\")\n",
    "df2 = get_df(dug1[1])\n",
    "# Current elementid\n",
    "elementid = dug1[2]\n",
    "print(\"\\n\")\n",
    "print(\"Done!\")"
   ]
  },
  {
   "cell_type": "code",
   "execution_count": 8,
   "metadata": {},
   "outputs": [
    {
     "name": "stdout",
     "output_type": "stream",
     "text": [
      "\n",
      "Attributes DataFrame:  \n",
      "(125, 10)\n",
      "Index(['creationDate', 'device', 'elementid', 'endDate', 'sourceName',\n",
      "       'sourceVersion', 'startDate', 'type', 'unit', 'value'],\n",
      "      dtype='object')\n",
      "\n",
      "Data DataFrame:  \n"
     ]
    },
    {
     "ename": "NameError",
     "evalue": "name 'df2' is not defined",
     "output_type": "error",
     "traceback": [
      "\u001b[0;31m---------------------------------------------------------------------------\u001b[0m",
      "\u001b[0;31mNameError\u001b[0m                                 Traceback (most recent call last)",
      "\u001b[0;32m<ipython-input-8-887c67bba000>\u001b[0m in \u001b[0;36m<module>\u001b[0;34m()\u001b[0m\n\u001b[1;32m      3\u001b[0m \u001b[0mprint\u001b[0m\u001b[0;34m(\u001b[0m\u001b[0mdf1\u001b[0m\u001b[0;34m.\u001b[0m\u001b[0mcolumns\u001b[0m\u001b[0;34m)\u001b[0m\u001b[0;34m\u001b[0m\u001b[0m\n\u001b[1;32m      4\u001b[0m \u001b[0mprint\u001b[0m\u001b[0;34m(\u001b[0m\u001b[0;34m\"\\nData DataFrame:  \"\u001b[0m\u001b[0;34m)\u001b[0m\u001b[0;34m\u001b[0m\u001b[0m\n\u001b[0;32m----> 5\u001b[0;31m \u001b[0mprint\u001b[0m\u001b[0;34m(\u001b[0m\u001b[0mdf2\u001b[0m\u001b[0;34m.\u001b[0m\u001b[0mshape\u001b[0m\u001b[0;34m)\u001b[0m\u001b[0;34m\u001b[0m\u001b[0m\n\u001b[0m\u001b[1;32m      6\u001b[0m \u001b[0mprint\u001b[0m\u001b[0;34m(\u001b[0m\u001b[0mdf2\u001b[0m\u001b[0;34m.\u001b[0m\u001b[0mcolumns\u001b[0m\u001b[0;34m)\u001b[0m\u001b[0;34m\u001b[0m\u001b[0m\n\u001b[1;32m      7\u001b[0m \u001b[0mprint\u001b[0m\u001b[0;34m(\u001b[0m\u001b[0;34m\"\\nLast used Dlement ID:  \"\u001b[0m\u001b[0;34m)\u001b[0m\u001b[0;34m\u001b[0m\u001b[0m\n",
      "\u001b[0;31mNameError\u001b[0m: name 'df2' is not defined"
     ]
    }
   ],
   "source": [
    "print(\"\\nAttributes DataFrame:  \")\n",
    "print(df1.shape)\n",
    "print(df1.columns)\n",
    "print(\"\\nData DataFrame:  \")\n",
    "print(df2.shape)\n",
    "print(df2.columns)\n",
    "print(\"\\nLast used Dlement ID:  \")\n",
    "print(elementid)\n",
    "\n"
   ]
  }
 ],
 "metadata": {
  "kernelspec": {
   "display_name": "Python 3",
   "language": "python",
   "name": "python3"
  },
  "language_info": {
   "codemirror_mode": {
    "name": "ipython",
    "version": 3
   },
   "file_extension": ".py",
   "mimetype": "text/x-python",
   "name": "python",
   "nbconvert_exporter": "python",
   "pygments_lexer": "ipython3",
   "version": "3.6.1"
  }
 },
 "nbformat": 4,
 "nbformat_minor": 2
}
